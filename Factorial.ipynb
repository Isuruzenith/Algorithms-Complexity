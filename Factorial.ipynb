{
  "nbformat": 4,
  "nbformat_minor": 0,
  "metadata": {
    "colab": {
      "provenance": [],
      "authorship_tag": "ABX9TyP2cOilLltgSk60Z10VHp2V",
      "include_colab_link": true
    },
    "kernelspec": {
      "name": "python3",
      "display_name": "Python 3"
    },
    "language_info": {
      "name": "python"
    }
  },
  "cells": [
    {
      "cell_type": "markdown",
      "metadata": {
        "id": "view-in-github",
        "colab_type": "text"
      },
      "source": [
        "<a href=\"https://colab.research.google.com/github/Isuruzenith/Algorithms-Complexity/blob/main/Factorial.ipynb\" target=\"_parent\"><img src=\"https://colab.research.google.com/assets/colab-badge.svg\" alt=\"Open In Colab\"/></a>"
      ]
    },
    {
      "cell_type": "markdown",
      "source": [
        "Factorial without Recursion"
      ],
      "metadata": {
        "id": "p-gnsbYUfif8"
      }
    },
    {
      "cell_type": "code",
      "source": [
        "def factorial(n):\n",
        "  if n == 0 :\n",
        "    return 1\n",
        "  elif n == 1 :\n",
        "    return 1\n",
        "  ans = n\n",
        "  while n > 1 :\n",
        "    ans = ans * (n-1)\n",
        "    n = n - 1\n",
        "  return ans\n",
        "\n",
        "x = factorial(5)\n",
        "print(x)\n",
        ""
      ],
      "metadata": {
        "colab": {
          "base_uri": "https://localhost:8080/"
        },
        "id": "KmXHQAOMfr66",
        "outputId": "9c6420d0-3d66-4299-ec40-2b2f072f55c0"
      },
      "execution_count": 21,
      "outputs": [
        {
          "output_type": "stream",
          "name": "stdout",
          "text": [
            "120\n"
          ]
        }
      ]
    },
    {
      "cell_type": "markdown",
      "source": [
        "Factorial Recursion example"
      ],
      "metadata": {
        "id": "GvC0J-8GKmNs"
      }
    },
    {
      "cell_type": "code",
      "source": [
        "\n",
        "\n",
        "\n",
        "\n",
        "\n"
      ],
      "metadata": {
        "id": "6UQFilBVKqgJ"
      },
      "execution_count": null,
      "outputs": []
    }
  ]
}